{
  "nbformat": 4,
  "nbformat_minor": 5,
  "metadata": {
    "kernelspec": {
      "display_name": "Python 3",
      "language": "python",
      "name": "python3"
    },
    "language_info": {
      "codemirror_mode": {
        "name": "ipython",
        "version": 3
      },
      "file_extension": ".py",
      "mimetype": "text/x-python",
      "name": "python",
      "nbconvert_exporter": "python",
      "pygments_lexer": "ipython3",
      "version": "3.7.9"
    },
    "papermill": {
      "default_parameters": {},
      "duration": 48.968382,
      "end_time": "2021-08-10T15:55:24.183040",
      "environment_variables": {},
      "exception": null,
      "input_path": "__notebook__.ipynb",
      "output_path": "__notebook__.ipynb",
      "parameters": {},
      "start_time": "2021-08-10T15:54:35.214658",
      "version": "2.3.2"
    },
    "colab": {
      "name": "ModelComparison (1).ipynb",
      "provenance": [],
      "collapsed_sections": []
    }
  },
  "cells": [
    {
      "cell_type": "markdown",
      "metadata": {
        "id": "74aR_7VX53NB"
      },
      "source": [
        "# **PHISHING EMAIL DETECTOR MODEL COMPARISON**\n",
        "---\n",
        "\n"
      ],
      "id": "74aR_7VX53NB"
    },
    {
      "cell_type": "markdown",
      "metadata": {
        "id": "376yzE3cE8md"
      },
      "source": [
        "In this notebook we compare different supervized classification models (SVM, KNN, DT, RF, LR, XGB, MultiNB). We compare their training time and performance. We improve the one with highest performance and least training time further using hyperparameters. "
      ],
      "id": "376yzE3cE8md"
    },
    {
      "cell_type": "markdown",
      "metadata": {
        "papermill": {
          "duration": 0.013127,
          "end_time": "2021-08-10T15:54:40.847958",
          "exception": false,
          "start_time": "2021-08-10T15:54:40.834831",
          "status": "completed"
        },
        "tags": [],
        "id": "veterinary-number"
      },
      "source": [
        "**Loading, data explorating and preprocessing**"
      ],
      "id": "veterinary-number"
    },
    {
      "cell_type": "code",
      "metadata": {
        "_cell_guid": "b1076dfc-b9ad-4769-8c92-a6c4dae69d19",
        "_uuid": "8f2839f25d086af736a60e9eeb907d3b93b6e0e5",
        "execution": {
          "iopub.execute_input": "2021-08-10T15:54:40.882070Z",
          "iopub.status.busy": "2021-08-10T15:54:40.881306Z",
          "iopub.status.idle": "2021-08-10T15:54:42.590255Z",
          "shell.execute_reply": "2021-08-10T15:54:42.590688Z"
        },
        "papermill": {
          "duration": 1.72956,
          "end_time": "2021-08-10T15:54:42.590970",
          "exception": false,
          "start_time": "2021-08-10T15:54:40.861410",
          "status": "completed"
        },
        "tags": [],
        "id": "polar-talent"
      },
      "source": [
        "import numpy as np\n",
        "import pandas as pd\n",
        "import matplotlib.pyplot as plt\n",
        "import seaborn as sns\n",
        "from sklearn.model_selection import train_test_split\n",
        "from sklearn.ensemble import RandomForestClassifier, GradientBoostingClassifier\n",
        "from xgboost import XGBClassifier\n",
        "from sklearn.naive_bayes import MultinomialNB\n",
        "from sklearn.linear_model import LogisticRegression\n",
        "from sklearn.neighbors import KNeighborsClassifier\n",
        "from sklearn.tree import DecisionTreeClassifier\n",
        "from sklearn.svm import LinearSVC, SVC\n",
        "from time import perf_counter\n",
        "import warnings\n",
        "warnings.filterwarnings(action='ignore')\n",
        "df = pd.read_csv('./spam_ham_dataset.csv')"
      ],
      "id": "polar-talent",
      "execution_count": null,
      "outputs": []
    },
    {
      "cell_type": "markdown",
      "metadata": {
        "id": "4jT7JFeb3iwj"
      },
      "source": [
        "**Cleaning Data**"
      ],
      "id": "4jT7JFeb3iwj"
    },
    {
      "cell_type": "code",
      "metadata": {
        "execution": {
          "iopub.execute_input": "2021-08-10T15:54:42.943773Z",
          "iopub.status.busy": "2021-08-10T15:54:42.943200Z",
          "iopub.status.idle": "2021-08-10T15:54:43.389528Z",
          "shell.execute_reply": "2021-08-10T15:54:43.388950Z"
        },
        "papermill": {
          "duration": 0.466176,
          "end_time": "2021-08-10T15:54:43.389663",
          "exception": false,
          "start_time": "2021-08-10T15:54:42.923487",
          "status": "completed"
        },
        "tags": [],
        "colab": {
          "base_uri": "https://localhost:8080/",
          "height": 88
        },
        "id": "southern-potter",
        "outputId": "f25c95bf-1cf0-4590-dbe6-3a9ee9c7e592"
      },
      "source": [
        "from nltk.tokenize import RegexpTokenizer\n",
        "\n",
        "def clean_str(string, reg = RegexpTokenizer(r'[a-z]+')):\n",
        "    # Clean a string with RegexpTokenizer\n",
        "    string = string.lower()\n",
        "    tokens = reg.tokenize(string)\n",
        "    return \" \".join(tokens)\n",
        "\n",
        "print('Before cleaning:')\n",
        "df['text'][0]\n",
        "\n"
      ],
      "id": "southern-potter",
      "execution_count": null,
      "outputs": [
        {
          "output_type": "stream",
          "name": "stdout",
          "text": [
            "Before cleaning:\n"
          ]
        },
        {
          "output_type": "execute_result",
          "data": {
            "application/vnd.google.colaboratory.intrinsic+json": {
              "type": "string"
            },
            "text/plain": [
              "\"Subject: enron methanol ; meter # : 988291\\r\\nthis is a follow up to the note i gave you on monday , 4 / 3 / 00 { preliminary\\r\\nflow data provided by daren } .\\r\\nplease override pop ' s daily volume { presently zero } to reflect daily\\r\\nactivity you can obtain from gas control .\\r\\nthis change is needed asap for economics purposes .\""
            ]
          },
          "metadata": {},
          "execution_count": 3
        }
      ]
    },
    {
      "cell_type": "code",
      "metadata": {
        "execution": {
          "iopub.execute_input": "2021-08-10T15:54:43.438124Z",
          "iopub.status.busy": "2021-08-10T15:54:43.437476Z",
          "iopub.status.idle": "2021-08-10T15:54:43.442506Z",
          "shell.execute_reply": "2021-08-10T15:54:43.441873Z"
        },
        "papermill": {
          "duration": 0.030672,
          "end_time": "2021-08-10T15:54:43.442645",
          "exception": false,
          "start_time": "2021-08-10T15:54:43.411973",
          "status": "completed"
        },
        "tags": [],
        "colab": {
          "base_uri": "https://localhost:8080/",
          "height": 70
        },
        "id": "considered-murder",
        "outputId": "b77b626b-72a1-4270-b1f7-fb98ef558022"
      },
      "source": [
        "print('After cleaning:')\n",
        "clean_str(df['text'][0])"
      ],
      "id": "considered-murder",
      "execution_count": null,
      "outputs": [
        {
          "output_type": "stream",
          "name": "stdout",
          "text": [
            "After cleaning:\n"
          ]
        },
        {
          "output_type": "execute_result",
          "data": {
            "application/vnd.google.colaboratory.intrinsic+json": {
              "type": "string"
            },
            "text/plain": [
              "'subject enron methanol meter this is a follow up to the note i gave you on monday preliminary flow data provided by daren please override pop s daily volume presently zero to reflect daily activity you can obtain from gas control this change is needed asap for economics purposes'"
            ]
          },
          "metadata": {},
          "execution_count": 4
        }
      ]
    },
    {
      "cell_type": "code",
      "metadata": {
        "execution": {
          "iopub.execute_input": "2021-08-10T15:54:43.508686Z",
          "iopub.status.busy": "2021-08-10T15:54:43.503567Z",
          "iopub.status.idle": "2021-08-10T15:54:43.722866Z",
          "shell.execute_reply": "2021-08-10T15:54:43.722428Z"
        },
        "papermill": {
          "duration": 0.262096,
          "end_time": "2021-08-10T15:54:43.722998",
          "exception": false,
          "start_time": "2021-08-10T15:54:43.460902",
          "status": "completed"
        },
        "tags": [],
        "colab": {
          "base_uri": "https://localhost:8080/",
          "height": 206
        },
        "id": "destroyed-serve",
        "outputId": "022c910f-2587-42a7-a2d0-0bc3e213f734"
      },
      "source": [
        "# Create a new column with the cleaned messages\n",
        "df['text_clean'] = df['text'].apply(lambda string: clean_str(string))\n",
        "\n",
        "# Display the result\n",
        "df.head()"
      ],
      "id": "destroyed-serve",
      "execution_count": null,
      "outputs": [
        {
          "output_type": "execute_result",
          "data": {
            "text/html": [
              "<div>\n",
              "<style scoped>\n",
              "    .dataframe tbody tr th:only-of-type {\n",
              "        vertical-align: middle;\n",
              "    }\n",
              "\n",
              "    .dataframe tbody tr th {\n",
              "        vertical-align: top;\n",
              "    }\n",
              "\n",
              "    .dataframe thead th {\n",
              "        text-align: right;\n",
              "    }\n",
              "</style>\n",
              "<table border=\"1\" class=\"dataframe\">\n",
              "  <thead>\n",
              "    <tr style=\"text-align: right;\">\n",
              "      <th></th>\n",
              "      <th>Unnamed: 0</th>\n",
              "      <th>label</th>\n",
              "      <th>text</th>\n",
              "      <th>label_num</th>\n",
              "      <th>text_clean</th>\n",
              "    </tr>\n",
              "  </thead>\n",
              "  <tbody>\n",
              "    <tr>\n",
              "      <th>0</th>\n",
              "      <td>605</td>\n",
              "      <td>ham</td>\n",
              "      <td>Subject: enron methanol ; meter # : 988291\\r\\n...</td>\n",
              "      <td>0</td>\n",
              "      <td>subject enron methanol meter this is a follow ...</td>\n",
              "    </tr>\n",
              "    <tr>\n",
              "      <th>1</th>\n",
              "      <td>2349</td>\n",
              "      <td>ham</td>\n",
              "      <td>Subject: hpl nom for january 9 , 2001\\r\\n( see...</td>\n",
              "      <td>0</td>\n",
              "      <td>subject hpl nom for january see attached file ...</td>\n",
              "    </tr>\n",
              "    <tr>\n",
              "      <th>2</th>\n",
              "      <td>3624</td>\n",
              "      <td>ham</td>\n",
              "      <td>Subject: neon retreat\\r\\nho ho ho , we ' re ar...</td>\n",
              "      <td>0</td>\n",
              "      <td>subject neon retreat ho ho ho we re around to ...</td>\n",
              "    </tr>\n",
              "    <tr>\n",
              "      <th>3</th>\n",
              "      <td>4685</td>\n",
              "      <td>spam</td>\n",
              "      <td>Subject: photoshop , windows , office . cheap ...</td>\n",
              "      <td>1</td>\n",
              "      <td>subject photoshop windows office cheap main tr...</td>\n",
              "    </tr>\n",
              "    <tr>\n",
              "      <th>4</th>\n",
              "      <td>2030</td>\n",
              "      <td>ham</td>\n",
              "      <td>Subject: re : indian springs\\r\\nthis deal is t...</td>\n",
              "      <td>0</td>\n",
              "      <td>subject re indian springs this deal is to book...</td>\n",
              "    </tr>\n",
              "  </tbody>\n",
              "</table>\n",
              "</div>"
            ],
            "text/plain": [
              "   Unnamed: 0  ...                                         text_clean\n",
              "0         605  ...  subject enron methanol meter this is a follow ...\n",
              "1        2349  ...  subject hpl nom for january see attached file ...\n",
              "2        3624  ...  subject neon retreat ho ho ho we re around to ...\n",
              "3        4685  ...  subject photoshop windows office cheap main tr...\n",
              "4        2030  ...  subject re indian springs this deal is to book...\n",
              "\n",
              "[5 rows x 5 columns]"
            ]
          },
          "metadata": {},
          "execution_count": 5
        }
      ]
    },
    {
      "cell_type": "code",
      "metadata": {
        "execution": {
          "iopub.execute_input": "2021-08-10T15:54:43.801407Z",
          "iopub.status.busy": "2021-08-10T15:54:43.796432Z",
          "iopub.status.idle": "2021-08-10T15:54:44.556254Z",
          "shell.execute_reply": "2021-08-10T15:54:44.555561Z"
        },
        "papermill": {
          "duration": 0.816623,
          "end_time": "2021-08-10T15:54:44.556402",
          "exception": false,
          "start_time": "2021-08-10T15:54:43.739779",
          "status": "completed"
        },
        "tags": [],
        "id": "rough-landscape"
      },
      "source": [
        "# Convert a collection of text documents to a matrix of token counts\n",
        "from sklearn.feature_extraction.text import CountVectorizer\n",
        "cv = CountVectorizer()\n",
        "X = cv.fit_transform(df.text_clean)\n",
        "\n",
        "# Get the categories\n",
        "y = df.label"
      ],
      "id": "rough-landscape",
      "execution_count": null,
      "outputs": []
    },
    {
      "cell_type": "code",
      "metadata": {
        "execution": {
          "iopub.execute_input": "2021-08-10T15:54:44.595989Z",
          "iopub.status.busy": "2021-08-10T15:54:44.595444Z",
          "iopub.status.idle": "2021-08-10T15:54:44.602281Z",
          "shell.execute_reply": "2021-08-10T15:54:44.602693Z"
        },
        "papermill": {
          "duration": 0.028866,
          "end_time": "2021-08-10T15:54:44.602856",
          "exception": false,
          "start_time": "2021-08-10T15:54:44.573990",
          "status": "completed"
        },
        "tags": [],
        "id": "nasty-framing"
      },
      "source": [
        "# Split arrays or matrices into random train and test subsets\n",
        "X_train, X_test, y_train, y_test = train_test_split(X, y, test_size=0.2, random_state=0)"
      ],
      "id": "nasty-framing",
      "execution_count": null,
      "outputs": []
    },
    {
      "cell_type": "markdown",
      "metadata": {
        "papermill": {
          "duration": 0.016905,
          "end_time": "2021-08-10T15:54:44.636865",
          "exception": false,
          "start_time": "2021-08-10T15:54:44.619960",
          "status": "completed"
        },
        "tags": [],
        "id": "wanted-glass"
      },
      "source": [
        "**Model comparison**"
      ],
      "id": "wanted-glass"
    },
    {
      "cell_type": "code",
      "metadata": {
        "execution": {
          "iopub.execute_input": "2021-08-10T15:54:44.674550Z",
          "iopub.status.busy": "2021-08-10T15:54:44.673661Z",
          "iopub.status.idle": "2021-08-10T15:55:19.616570Z",
          "shell.execute_reply": "2021-08-10T15:55:19.617029Z"
        },
        "papermill": {
          "duration": 34.963337,
          "end_time": "2021-08-10T15:55:19.617196",
          "exception": false,
          "start_time": "2021-08-10T15:54:44.653859",
          "status": "completed"
        },
        "tags": [],
        "id": "dress-ghana"
      },
      "source": [
        "models = {\n",
        "    \"Random Forest\": {\"model\":RandomForestClassifier(), \"perf\":0},\n",
        "    \"Gradient Boosting\": {\"model\":GradientBoostingClassifier(), \"perf\":0},\n",
        "    \"XGBoost\": {\"model\":XGBClassifier(eval_metric='mlogloss'), \"perf\":0},\n",
        "    \"MultinomialNB\": {\"model\":MultinomialNB(), \"perf\":0},\n",
        "    \"Logistic Regr.\": {\"model\":LogisticRegression(), \"perf\":0},\n",
        "    \"KNN\": {\"model\":KNeighborsClassifier(), \"perf\":0},\n",
        "    \"Decision Tree\": {\"model\":DecisionTreeClassifier(), \"perf\":0},\n",
        "    \"SVM (Linear)\": {\"model\":LinearSVC(), \"perf\":0},\n",
        "    \"SVM (RBF)\": {\"model\":SVC(), \"perf\":0}\n",
        "}\n",
        "\n",
        "for name, model in models.items():\n",
        "    start = perf_counter()\n",
        "    model['model'].fit(X_train, y_train)\n",
        "    duration = perf_counter() - start\n",
        "    duration = round(duration,2)\n",
        "    model[\"perf\"] = duration"
      ],
      "id": "dress-ghana",
      "execution_count": null,
      "outputs": []
    },
    {
      "cell_type": "code",
      "metadata": {
        "execution": {
          "iopub.execute_input": "2021-08-10T15:55:19.658610Z",
          "iopub.status.busy": "2021-08-10T15:55:19.657750Z",
          "iopub.status.idle": "2021-08-10T15:55:21.471846Z",
          "shell.execute_reply": "2021-08-10T15:55:21.472310Z"
        },
        "papermill": {
          "duration": 1.837152,
          "end_time": "2021-08-10T15:55:21.472488",
          "exception": false,
          "start_time": "2021-08-10T15:55:19.635336",
          "status": "completed"
        },
        "tags": [],
        "id": "increasing-shower"
      },
      "source": [
        "models_acc = []\n",
        "for name, model in models.items():\n",
        "    models_acc.append([name, model[\"model\"].score(X_test, y_test),model[\"perf\"]])"
      ],
      "id": "increasing-shower",
      "execution_count": null,
      "outputs": []
    },
    {
      "cell_type": "code",
      "metadata": {
        "execution": {
          "iopub.execute_input": "2021-08-10T15:55:21.522729Z",
          "iopub.status.busy": "2021-08-10T15:55:21.522138Z",
          "iopub.status.idle": "2021-08-10T15:55:21.524906Z",
          "shell.execute_reply": "2021-08-10T15:55:21.525347Z"
        },
        "papermill": {
          "duration": 0.033941,
          "end_time": "2021-08-10T15:55:21.525504",
          "exception": false,
          "start_time": "2021-08-10T15:55:21.491563",
          "status": "completed"
        },
        "tags": [],
        "colab": {
          "base_uri": "https://localhost:8080/",
          "height": 331
        },
        "id": "progressive-drive",
        "outputId": "21329424-22a6-43db-ca1e-bc5bf0c453e7"
      },
      "source": [
        "df_acc = pd.DataFrame(models_acc)\n",
        "df_acc.columns = ['Model', 'Accuracy w/o scaling', 'Training time (sec)']\n",
        "df_acc.sort_values(by = 'Accuracy w/o scaling', ascending = False, inplace=True)\n",
        "df_acc.reset_index(drop = True, inplace=True)\n",
        "df_acc"
      ],
      "id": "progressive-drive",
      "execution_count": null,
      "outputs": [
        {
          "output_type": "execute_result",
          "data": {
            "text/html": [
              "<div>\n",
              "<style scoped>\n",
              "    .dataframe tbody tr th:only-of-type {\n",
              "        vertical-align: middle;\n",
              "    }\n",
              "\n",
              "    .dataframe tbody tr th {\n",
              "        vertical-align: top;\n",
              "    }\n",
              "\n",
              "    .dataframe thead th {\n",
              "        text-align: right;\n",
              "    }\n",
              "</style>\n",
              "<table border=\"1\" class=\"dataframe\">\n",
              "  <thead>\n",
              "    <tr style=\"text-align: right;\">\n",
              "      <th></th>\n",
              "      <th>Model</th>\n",
              "      <th>Accuracy w/o scaling</th>\n",
              "      <th>Training time (sec)</th>\n",
              "    </tr>\n",
              "  </thead>\n",
              "  <tbody>\n",
              "    <tr>\n",
              "      <th>0</th>\n",
              "      <td>Random Forest</td>\n",
              "      <td>0.974879</td>\n",
              "      <td>4.94</td>\n",
              "    </tr>\n",
              "    <tr>\n",
              "      <th>1</th>\n",
              "      <td>Logistic Regr.</td>\n",
              "      <td>0.973913</td>\n",
              "      <td>1.36</td>\n",
              "    </tr>\n",
              "    <tr>\n",
              "      <th>2</th>\n",
              "      <td>MultinomialNB</td>\n",
              "      <td>0.971981</td>\n",
              "      <td>0.02</td>\n",
              "    </tr>\n",
              "    <tr>\n",
              "      <th>3</th>\n",
              "      <td>XGBoost</td>\n",
              "      <td>0.967150</td>\n",
              "      <td>6.19</td>\n",
              "    </tr>\n",
              "    <tr>\n",
              "      <th>4</th>\n",
              "      <td>SVM (Linear)</td>\n",
              "      <td>0.964251</td>\n",
              "      <td>0.20</td>\n",
              "    </tr>\n",
              "    <tr>\n",
              "      <th>5</th>\n",
              "      <td>Gradient Boosting</td>\n",
              "      <td>0.960386</td>\n",
              "      <td>18.17</td>\n",
              "    </tr>\n",
              "    <tr>\n",
              "      <th>6</th>\n",
              "      <td>Decision Tree</td>\n",
              "      <td>0.959420</td>\n",
              "      <td>0.78</td>\n",
              "    </tr>\n",
              "    <tr>\n",
              "      <th>7</th>\n",
              "      <td>SVM (RBF)</td>\n",
              "      <td>0.957488</td>\n",
              "      <td>5.40</td>\n",
              "    </tr>\n",
              "    <tr>\n",
              "      <th>8</th>\n",
              "      <td>KNN</td>\n",
              "      <td>0.871498</td>\n",
              "      <td>0.01</td>\n",
              "    </tr>\n",
              "  </tbody>\n",
              "</table>\n",
              "</div>"
            ],
            "text/plain": [
              "               Model  Accuracy w/o scaling  Training time (sec)\n",
              "0      Random Forest              0.974879                 4.94\n",
              "1     Logistic Regr.              0.973913                 1.36\n",
              "2      MultinomialNB              0.971981                 0.02\n",
              "3            XGBoost              0.967150                 6.19\n",
              "4       SVM (Linear)              0.964251                 0.20\n",
              "5  Gradient Boosting              0.960386                18.17\n",
              "6      Decision Tree              0.959420                 0.78\n",
              "7          SVM (RBF)              0.957488                 5.40\n",
              "8                KNN              0.871498                 0.01"
            ]
          },
          "metadata": {},
          "execution_count": 10
        }
      ]
    },
    {
      "cell_type": "code",
      "metadata": {
        "execution": {
          "iopub.execute_input": "2021-08-10T15:55:21.572679Z",
          "iopub.status.busy": "2021-08-10T15:55:21.571821Z",
          "iopub.status.idle": "2021-08-10T15:55:21.762927Z",
          "shell.execute_reply": "2021-08-10T15:55:21.763335Z"
        },
        "papermill": {
          "duration": 0.21894,
          "end_time": "2021-08-10T15:55:21.763504",
          "exception": false,
          "start_time": "2021-08-10T15:55:21.544564",
          "status": "completed"
        },
        "tags": [],
        "colab": {
          "base_uri": "https://localhost:8080/",
          "height": 369
        },
        "id": "revolutionary-sustainability",
        "outputId": "1d9119c5-9fed-46d8-d427-44cd0babb210"
      },
      "source": [
        "plt.figure(figsize = (15,5))\n",
        "sns.barplot(x = 'Model', y = 'Accuracy w/o scaling', data = df_acc)\n",
        "plt.title('Accuracy on the test set\\n(the Y-Axis is between 0.8 and 1.0)', fontsize = 15)\n",
        "plt.ylim(0.8,1)\n",
        "plt.show()"
      ],
      "id": "revolutionary-sustainability",
      "execution_count": null,
      "outputs": [
        {
          "output_type": "display_data",
          "data": {
            "image/png": "[encoded data removed]",
            "text/plain": [
              "<Figure size 1080x360 with 1 Axes>"
            ]
          },
          "metadata": {
            "needs_background": "light"
          }
        }
      ]
    },
    {
      "cell_type": "code",
      "metadata": {
        "execution": {
          "iopub.execute_input": "2021-08-10T15:55:21.807526Z",
          "iopub.status.busy": "2021-08-10T15:55:21.806662Z",
          "iopub.status.idle": "2021-08-10T15:55:21.991118Z",
          "shell.execute_reply": "2021-08-10T15:55:21.990642Z"
        },
        "papermill": {
          "duration": 0.207625,
          "end_time": "2021-08-10T15:55:21.991257",
          "exception": false,
          "start_time": "2021-08-10T15:55:21.783632",
          "status": "completed"
        },
        "tags": [],
        "colab": {
          "base_uri": "https://localhost:8080/",
          "height": 352
        },
        "id": "neutral-affiliation",
        "outputId": "29ba324a-5dd1-4e49-b7ad-aa2fcf1ea434"
      },
      "source": [
        "plt.figure(figsize = (15,5))\n",
        "sns.barplot(x = 'Model', y = 'Training time (sec)', data = df_acc)\n",
        "plt.title('Training time for each model in sec', fontsize = 15)\n",
        "plt.ylim(0,20)\n",
        "plt.show()"
      ],
      "id": "neutral-affiliation",
      "execution_count": null,
      "outputs": [
        {
          "output_type": "display_data",
          "data": {
            "image/png": "[encoded data removed]",
            "text/plain": [
              "<Figure size 1080x360 with 1 Axes>"
            ]
          },
          "metadata": {
            "needs_background": "light"
          }
        }
      ]
    },
    {
      "cell_type": "markdown",
      "metadata": {
        "papermill": {
          "duration": 0.021605,
          "end_time": "2021-08-10T15:55:22.033785",
          "exception": false,
          "start_time": "2021-08-10T15:55:22.012180",
          "status": "completed"
        },
        "tags": [],
        "id": "fresh-fault"
      },
      "source": [
        "***XGBoosting gives the best result on the test set. Nevertheless, MultinomialNB is nearly as good, but is very fast (0.2 sec vs 5.1 sec). In the following part, we'll choose the MultinomialNB and try various hyperparameters to optimize it.***"
      ],
      "id": "fresh-fault"
    },
    {
      "cell_type": "markdown",
      "metadata": {
        "papermill": {
          "duration": 0.020848,
          "end_time": "2021-08-10T15:55:22.076887",
          "exception": false,
          "start_time": "2021-08-10T15:55:22.056039",
          "status": "completed"
        },
        "tags": [],
        "id": "elementary-harrison"
      },
      "source": [
        "Hyperparameter selection for MultinomialNB"
      ],
      "id": "elementary-harrison"
    },
    {
      "cell_type": "code",
      "metadata": {
        "execution": {
          "iopub.execute_input": "2021-08-10T15:55:22.128477Z",
          "iopub.status.busy": "2021-08-10T15:55:22.127578Z",
          "iopub.status.idle": "2021-08-10T15:55:23.018635Z",
          "shell.execute_reply": "2021-08-10T15:55:23.019145Z"
        },
        "papermill": {
          "duration": 0.921331,
          "end_time": "2021-08-10T15:55:23.019313",
          "exception": false,
          "start_time": "2021-08-10T15:55:22.097982",
          "status": "completed"
        },
        "tags": [],
        "colab": {
          "base_uri": "https://localhost:8080/",
          "height": 363
        },
        "id": "spare-senator",
        "outputId": "aee1119b-144f-4d84-df5b-9c41781c9566"
      },
      "source": [
        "# Find the best hyperparameter with GridSearchCV\n",
        "# Exhaustive search over specified parameter values for an estimator.\n",
        "from sklearn.naive_bayes import MultinomialNB\n",
        "from sklearn.model_selection import GridSearchCV\n",
        "parameters = {\"alpha\": [0.2,1,2,5,10], \"fit_prior\": [True, False]}\n",
        "\n",
        "grid = GridSearchCV(MultinomialNB(), param_grid=parameters)\n",
        "grid.fit(X_train,y_train)\n",
        "\n",
        "# Create a DataFrame with the best Hyperparameters\n",
        "pd.DataFrame(grid.cv_results_)[['params','mean_test_score']]\\\n",
        "                               .sort_values(by=\"mean_test_score\", ascending=False)"
      ],
      "id": "spare-senator",
      "execution_count": null,
      "outputs": [
        {
          "output_type": "execute_result",
          "data": {
            "text/html": [
              "<div>\n",
              "<style scoped>\n",
              "    .dataframe tbody tr th:only-of-type {\n",
              "        vertical-align: middle;\n",
              "    }\n",
              "\n",
              "    .dataframe tbody tr th {\n",
              "        vertical-align: top;\n",
              "    }\n",
              "\n",
              "    .dataframe thead th {\n",
              "        text-align: right;\n",
              "    }\n",
              "</style>\n",
              "<table border=\"1\" class=\"dataframe\">\n",
              "  <thead>\n",
              "    <tr style=\"text-align: right;\">\n",
              "      <th></th>\n",
              "      <th>params</th>\n",
              "      <th>mean_test_score</th>\n",
              "    </tr>\n",
              "  </thead>\n",
              "  <tbody>\n",
              "    <tr>\n",
              "      <th>0</th>\n",
              "      <td>{'alpha': 0.2, 'fit_prior': True}</td>\n",
              "      <td>0.981384</td>\n",
              "    </tr>\n",
              "    <tr>\n",
              "      <th>1</th>\n",
              "      <td>{'alpha': 0.2, 'fit_prior': False}</td>\n",
              "      <td>0.981142</td>\n",
              "    </tr>\n",
              "    <tr>\n",
              "      <th>3</th>\n",
              "      <td>{'alpha': 1, 'fit_prior': False}</td>\n",
              "      <td>0.979690</td>\n",
              "    </tr>\n",
              "    <tr>\n",
              "      <th>2</th>\n",
              "      <td>{'alpha': 1, 'fit_prior': True}</td>\n",
              "      <td>0.977999</td>\n",
              "    </tr>\n",
              "    <tr>\n",
              "      <th>5</th>\n",
              "      <td>{'alpha': 2, 'fit_prior': False}</td>\n",
              "      <td>0.971713</td>\n",
              "    </tr>\n",
              "    <tr>\n",
              "      <th>4</th>\n",
              "      <td>{'alpha': 2, 'fit_prior': True}</td>\n",
              "      <td>0.967602</td>\n",
              "    </tr>\n",
              "    <tr>\n",
              "      <th>7</th>\n",
              "      <td>{'alpha': 5, 'fit_prior': False}</td>\n",
              "      <td>0.938591</td>\n",
              "    </tr>\n",
              "    <tr>\n",
              "      <th>6</th>\n",
              "      <td>{'alpha': 5, 'fit_prior': True}</td>\n",
              "      <td>0.930854</td>\n",
              "    </tr>\n",
              "    <tr>\n",
              "      <th>9</th>\n",
              "      <td>{'alpha': 10, 'fit_prior': False}</td>\n",
              "      <td>0.886127</td>\n",
              "    </tr>\n",
              "    <tr>\n",
              "      <th>8</th>\n",
              "      <td>{'alpha': 10, 'fit_prior': True}</td>\n",
              "      <td>0.875971</td>\n",
              "    </tr>\n",
              "  </tbody>\n",
              "</table>\n",
              "</div>"
            ],
            "text/plain": [
              "                               params  mean_test_score\n",
              "0   {'alpha': 0.2, 'fit_prior': True}         0.981384\n",
              "1  {'alpha': 0.2, 'fit_prior': False}         0.981142\n",
              "3    {'alpha': 1, 'fit_prior': False}         0.979690\n",
              "2     {'alpha': 1, 'fit_prior': True}         0.977999\n",
              "5    {'alpha': 2, 'fit_prior': False}         0.971713\n",
              "4     {'alpha': 2, 'fit_prior': True}         0.967602\n",
              "7    {'alpha': 5, 'fit_prior': False}         0.938591\n",
              "6     {'alpha': 5, 'fit_prior': True}         0.930854\n",
              "9   {'alpha': 10, 'fit_prior': False}         0.886127\n",
              "8    {'alpha': 10, 'fit_prior': True}         0.875971"
            ]
          },
          "metadata": {},
          "execution_count": 13
        }
      ]
    },
    {
      "cell_type": "code",
      "metadata": {
        "execution": {
          "iopub.execute_input": "2021-08-10T15:55:23.067129Z",
          "iopub.status.busy": "2021-08-10T15:55:23.066203Z",
          "iopub.status.idle": "2021-08-10T15:55:23.072600Z",
          "shell.execute_reply": "2021-08-10T15:55:23.072066Z"
        },
        "papermill": {
          "duration": 0.03205,
          "end_time": "2021-08-10T15:55:23.072734",
          "exception": false,
          "start_time": "2021-08-10T15:55:23.040684",
          "status": "completed"
        },
        "tags": [],
        "colab": {
          "base_uri": "https://localhost:8080/"
        },
        "id": "controlled-trance",
        "outputId": "44f9ac39-9b00-4ed7-c8db-02e7179e3829"
      },
      "source": [
        "# Display the best hyperparameters\n",
        "grid.best_params_"
      ],
      "id": "controlled-trance",
      "execution_count": null,
      "outputs": [
        {
          "output_type": "execute_result",
          "data": {
            "text/plain": [
              "{'alpha': 0.2, 'fit_prior': True}"
            ]
          },
          "metadata": {},
          "execution_count": 14
        }
      ]
    },
    {
      "cell_type": "markdown",
      "metadata": {
        "papermill": {
          "duration": 0.021505,
          "end_time": "2021-08-10T15:55:23.116267",
          "exception": false,
          "start_time": "2021-08-10T15:55:23.094762",
          "status": "completed"
        },
        "tags": [],
        "id": "unnecessary-accessory"
      },
      "source": [
        "**The MultinomialNB Model**"
      ],
      "id": "unnecessary-accessory"
    },
    {
      "cell_type": "code",
      "metadata": {
        "execution": {
          "iopub.execute_input": "2021-08-10T15:55:23.175715Z",
          "iopub.status.busy": "2021-08-10T15:55:23.174418Z",
          "iopub.status.idle": "2021-08-10T15:55:23.190250Z",
          "shell.execute_reply": "2021-08-10T15:55:23.189647Z"
        },
        "papermill": {
          "duration": 0.05178,
          "end_time": "2021-08-10T15:55:23.190381",
          "exception": false,
          "start_time": "2021-08-10T15:55:23.138601",
          "status": "completed"
        },
        "tags": [],
        "colab": {
          "base_uri": "https://localhost:8080/"
        },
        "id": "convenient-orange",
        "outputId": "1c65b3bb-9177-4e12-cabb-ac21d95820bb"
      },
      "source": [
        "# Create the model with the best hyperparameters\n",
        "from sklearn.naive_bayes import MultinomialNB\n",
        "alpha, fit_prior = grid.best_params_['alpha'], grid.best_params_['fit_prior']\n",
        "model = MultinomialNB(alpha = alpha)\n",
        "\n",
        "model.fit(X_train,y_train)\n",
        "y_pred = model.predict(X_test)\n",
        "\n",
        "from sklearn.metrics import classification_report, accuracy_score\n",
        "print(\"Accuracy:\", round(accuracy_score(y_test,y_pred),3)*100)"
      ],
      "id": "convenient-orange",
      "execution_count": null,
      "outputs": [
        {
          "output_type": "stream",
          "name": "stdout",
          "text": [
            "Accuracy: 97.5\n"
          ]
        }
      ]
    }
  ]
}