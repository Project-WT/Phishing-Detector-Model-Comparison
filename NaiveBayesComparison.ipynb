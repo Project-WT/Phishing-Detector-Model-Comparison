{
  "nbformat": 4,
  "nbformat_minor": 5,
  "metadata": {
    "kernelspec": {
      "display_name": "Python 3",
      "language": "python",
      "name": "python3"
    },
    "language_info": {
      "codemirror_mode": {
        "name": "ipython",
        "version": 3
      },
      "file_extension": ".py",
      "mimetype": "text/x-python",
      "name": "python",
      "nbconvert_exporter": "python",
      "pygments_lexer": "ipython3",
      "version": "3.7.10"
    },
    "papermill": {
      "default_parameters": {},
      "duration": 15.765221,
      "end_time": "2021-09-29T15:35:27.610546",
      "environment_variables": {},
      "exception": null,
      "input_path": "__notebook__.ipynb",
      "output_path": "__notebook__.ipynb",
      "parameters": {},
      "start_time": "2021-09-29T15:35:11.845325",
      "version": "2.3.3"
    },
    "colab": {
      "name": "NaiveBayesComparison.ipynb",
      "provenance": [],
      "collapsed_sections": []
    }
  },
  "cells": [
    {
      "cell_type": "markdown",
      "metadata": {
        "id": "gYDf00W34XlQ"
      },
      "source": [
        "# Phishing Email Detector using Naive-Bayes Algorithm"
      ],
      "id": "gYDf00W34XlQ"
    },
    {
      "cell_type": "markdown",
      "metadata": {
        "id": "78ZiYijr-TEa"
      },
      "source": [
        "We test two types of **Naive-Bayes algorithm** in this notbook (*GaussianNB & BernoulliNB*). According to our literature survey they should provide underwhelming results. This can be improved by using MulinomialNB.  "
      ],
      "id": "78ZiYijr-TEa"
    },
    {
      "cell_type": "markdown",
      "metadata": {
        "id": "cxe5N0af5Alj"
      },
      "source": [
        "###Loading and Preprocessing"
      ],
      "id": "cxe5N0af5Alj"
    },
    {
      "cell_type": "code",
      "metadata": {
        "_cell_guid": "b1076dfc-b9ad-4769-8c92-a6c4dae69d19",
        "_uuid": "8f2839f25d086af736a60e9eeb907d3b93b6e0e5",
        "execution": {
          "iopub.execute_input": "2021-09-29T15:35:20.180803Z",
          "iopub.status.busy": "2021-09-29T15:35:20.179639Z",
          "iopub.status.idle": "2021-09-29T15:35:20.315997Z",
          "shell.execute_reply": "2021-09-29T15:35:20.316606Z",
          "shell.execute_reply.started": "2021-09-29T15:02:28.657305Z"
        },
        "papermill": {
          "duration": 0.151241,
          "end_time": "2021-09-29T15:35:20.316951",
          "exception": false,
          "start_time": "2021-09-29T15:35:20.165710",
          "status": "completed"
        },
        "tags": [],
        "colab": {
          "base_uri": "https://localhost:8080/",
          "height": 206
        },
        "id": "f429ac80",
        "outputId": "69d7e684-c072-4680-e909-6f2b2198d297"
      },
      "source": [
        "import pandas as pd\n",
        "df=pd.read_csv('./spam_ham_dataset.csv')\n",
        "df.head()"
      ],
      "id": "f429ac80",
      "execution_count": 8,
      "outputs": [
        {
          "output_type": "execute_result",
          "data": {
            "text/html": [
              "<div>\n",
              "<style scoped>\n",
              "    .dataframe tbody tr th:only-of-type {\n",
              "        vertical-align: middle;\n",
              "    }\n",
              "\n",
              "    .dataframe tbody tr th {\n",
              "        vertical-align: top;\n",
              "    }\n",
              "\n",
              "    .dataframe thead th {\n",
              "        text-align: right;\n",
              "    }\n",
              "</style>\n",
              "<table border=\"1\" class=\"dataframe\">\n",
              "  <thead>\n",
              "    <tr style=\"text-align: right;\">\n",
              "      <th></th>\n",
              "      <th>Unnamed: 0</th>\n",
              "      <th>label</th>\n",
              "      <th>text</th>\n",
              "      <th>label_num</th>\n",
              "    </tr>\n",
              "  </thead>\n",
              "  <tbody>\n",
              "    <tr>\n",
              "      <th>0</th>\n",
              "      <td>605</td>\n",
              "      <td>ham</td>\n",
              "      <td>Subject: enron methanol ; meter # : 988291\\r\\n...</td>\n",
              "      <td>0</td>\n",
              "    </tr>\n",
              "    <tr>\n",
              "      <th>1</th>\n",
              "      <td>2349</td>\n",
              "      <td>ham</td>\n",
              "      <td>Subject: hpl nom for january 9 , 2001\\r\\n( see...</td>\n",
              "      <td>0</td>\n",
              "    </tr>\n",
              "    <tr>\n",
              "      <th>2</th>\n",
              "      <td>3624</td>\n",
              "      <td>ham</td>\n",
              "      <td>Subject: neon retreat\\r\\nho ho ho , we ' re ar...</td>\n",
              "      <td>0</td>\n",
              "    </tr>\n",
              "    <tr>\n",
              "      <th>3</th>\n",
              "      <td>4685</td>\n",
              "      <td>spam</td>\n",
              "      <td>Subject: photoshop , windows , office . cheap ...</td>\n",
              "      <td>1</td>\n",
              "    </tr>\n",
              "    <tr>\n",
              "      <th>4</th>\n",
              "      <td>2030</td>\n",
              "      <td>ham</td>\n",
              "      <td>Subject: re : indian springs\\r\\nthis deal is t...</td>\n",
              "      <td>0</td>\n",
              "    </tr>\n",
              "  </tbody>\n",
              "</table>\n",
              "</div>"
            ],
            "text/plain": [
              "   Unnamed: 0  ... label_num\n",
              "0         605  ...         0\n",
              "1        2349  ...         0\n",
              "2        3624  ...         0\n",
              "3        4685  ...         1\n",
              "4        2030  ...         0\n",
              "\n",
              "[5 rows x 4 columns]"
            ]
          },
          "metadata": {},
          "execution_count": 8
        }
      ]
    },
    {
      "cell_type": "code",
      "metadata": {
        "execution": {
          "iopub.execute_input": "2021-08-10T15:54:42.721272Z",
          "iopub.status.busy": "2021-08-10T15:54:42.720553Z",
          "iopub.status.idle": "2021-08-10T15:54:42.877910Z",
          "shell.execute_reply": "2021-08-10T15:54:42.877339Z"
        },
        "papermill": {
          "duration": 0.178874,
          "end_time": "2021-08-10T15:54:42.878067",
          "exception": false,
          "start_time": "2021-08-10T15:54:42.699193",
          "status": "completed"
        },
        "tags": [],
        "id": "visible-silicon",
        "colab": {
          "base_uri": "https://localhost:8080/",
          "height": 299
        },
        "outputId": "b8cd9337-78a1-4b6d-cdfc-b66a5761c7e1"
      },
      "source": [
        "import matplotlib.pyplot as plt\n",
        "df['label'].value_counts().plot.bar(color = [\"g\",\"r\"])\n",
        "plt.title('Total number of ham and spam in the dataset')\n",
        "plt.show()"
      ],
      "id": "visible-silicon",
      "execution_count": 9,
      "outputs": [
        {
          "output_type": "display_data",
          "data": {
            "image/png": "[encoded data removed]",
            "text/plain": [
              "<Figure size 432x288 with 1 Axes>"
            ]
          },
          "metadata": {
            "needs_background": "light"
          }
        }
      ]
    },
    {
      "cell_type": "markdown",
      "metadata": {
        "id": "ZNFO23TJ45BT"
      },
      "source": [
        "###Filling in null values"
      ],
      "id": "ZNFO23TJ45BT"
    },
    {
      "cell_type": "code",
      "metadata": {
        "execution": {
          "iopub.execute_input": "2021-09-29T15:35:20.389629Z",
          "iopub.status.busy": "2021-09-29T15:35:20.388915Z",
          "iopub.status.idle": "2021-09-29T15:35:20.392154Z",
          "shell.execute_reply": "2021-09-29T15:35:20.391524Z",
          "shell.execute_reply.started": "2021-09-29T15:11:56.981960Z"
        },
        "papermill": {
          "duration": 0.019421,
          "end_time": "2021-09-29T15:35:20.392305",
          "exception": false,
          "start_time": "2021-09-29T15:35:20.372884",
          "status": "completed"
        },
        "tags": [],
        "id": "7c0650aa"
      },
      "source": [
        "import numpy as np\n",
        "df=df.replace(np.nan,'hello how are you')"
      ],
      "id": "7c0650aa",
      "execution_count": 10,
      "outputs": []
    },
    {
      "cell_type": "markdown",
      "metadata": {
        "id": "GrNvJocJ49Wq"
      },
      "source": [
        "###String to Vector conversion"
      ],
      "id": "GrNvJocJ49Wq"
    },
    {
      "cell_type": "code",
      "metadata": {
        "execution": {
          "iopub.execute_input": "2021-09-29T15:35:20.417558Z",
          "iopub.status.busy": "2021-09-29T15:35:20.416903Z",
          "iopub.status.idle": "2021-09-29T15:35:22.719829Z",
          "shell.execute_reply": "2021-09-29T15:35:22.719132Z",
          "shell.execute_reply.started": "2021-09-29T15:22:28.135500Z"
        },
        "papermill": {
          "duration": 2.318304,
          "end_time": "2021-09-29T15:35:22.720013",
          "exception": false,
          "start_time": "2021-09-29T15:35:20.401709",
          "status": "completed"
        },
        "tags": [],
        "colab": {
          "base_uri": "https://localhost:8080/"
        },
        "id": "816dfb8b",
        "outputId": "7f8d048c-0e29-45fe-c14a-0c6dca33a023"
      },
      "source": [
        "from sklearn.feature_extraction.text import CountVectorizer\n",
        "\n",
        "vectorizer = CountVectorizer()\n",
        "X = vectorizer.fit_transform(df['text'])\n",
        "print(X.toarray())\n"
      ],
      "id": "816dfb8b",
      "execution_count": 11,
      "outputs": [
        {
          "output_type": "stream",
          "name": "stdout",
          "text": [
            "[[1 0 0 ... 0 0 0]\n",
            " [0 0 0 ... 0 0 0]\n",
            " [0 0 0 ... 0 0 0]\n",
            " ...\n",
            " [0 0 0 ... 0 0 0]\n",
            " [0 0 0 ... 0 0 0]\n",
            " [0 0 0 ... 0 0 0]]\n"
          ]
        }
      ]
    },
    {
      "cell_type": "markdown",
      "metadata": {
        "id": "wWZmvAkD-C3a"
      },
      "source": [
        "**GaussianNB**\n",
        "*Can perform online updates to model parameters via partial_fit. For details on algorithm used to update feature means and variance online*"
      ],
      "id": "wWZmvAkD-C3a"
    },
    {
      "cell_type": "code",
      "metadata": {
        "execution": {
          "iopub.execute_input": "2021-09-29T15:35:22.771398Z",
          "iopub.status.busy": "2021-09-29T15:35:22.770750Z",
          "iopub.status.idle": "2021-09-29T15:35:25.421961Z",
          "shell.execute_reply": "2021-09-29T15:35:25.421376Z",
          "shell.execute_reply.started": "2021-09-29T15:31:39.094902Z"
        },
        "papermill": {
          "duration": 2.664045,
          "end_time": "2021-09-29T15:35:25.422128",
          "exception": false,
          "start_time": "2021-09-29T15:35:22.758083",
          "status": "completed"
        },
        "tags": [],
        "colab": {
          "base_uri": "https://localhost:8080/"
        },
        "id": "683797f8",
        "outputId": "41ec1fc9-2b66-476b-c390-0f01183e1acc"
      },
      "source": [
        "from sklearn.model_selection import train_test_split\n",
        "from sklearn.naive_bayes import GaussianNB\n",
        "X=X.toarray()\n",
        "X_train, X_test, y_train, y_test = train_test_split(X, df['label'], test_size=0.3, random_state=55)\n",
        "gnb = GaussianNB()\n",
        "y_pred = gnb.fit(X_train, y_train).predict(X_test)\n",
        "from sklearn.metrics import accuracy_score \n",
        "accuracy_score (y_test,y_pred )"
      ],
      "id": "683797f8",
      "execution_count": 12,
      "outputs": [
        {
          "output_type": "execute_result",
          "data": {
            "text/plain": [
              "0.9594072164948454"
            ]
          },
          "metadata": {},
          "execution_count": 12
        }
      ]
    },
    {
      "cell_type": "markdown",
      "metadata": {
        "id": "j5rsJ-Vy9pUa"
      },
      "source": [
        "**BernoulliNB** \n",
        "*Like MultinomialNB, this classifier is suitable for discrete data. The difference is that while MultinomialNB works with occurrence counts, BernoulliNB is designed for binary/boolean features.*"
      ],
      "id": "j5rsJ-Vy9pUa"
    },
    {
      "cell_type": "code",
      "metadata": {
        "execution": {
          "iopub.execute_input": "2021-09-29T15:35:25.516537Z",
          "iopub.status.busy": "2021-09-29T15:35:25.515886Z",
          "iopub.status.idle": "2021-09-29T15:35:26.787671Z",
          "shell.execute_reply": "2021-09-29T15:35:26.788166Z",
          "shell.execute_reply.started": "2021-09-29T15:33:55.876073Z"
        },
        "papermill": {
          "duration": 1.288567,
          "end_time": "2021-09-29T15:35:26.788399",
          "exception": false,
          "start_time": "2021-09-29T15:35:25.499832",
          "status": "completed"
        },
        "tags": [],
        "colab": {
          "base_uri": "https://localhost:8080/"
        },
        "id": "15b42bfc",
        "outputId": "b4669597-ab7a-495d-fc81-5bdca6b15966"
      },
      "source": [
        "import numpy as np\n",
        "from sklearn.naive_bayes import BernoulliNB\n",
        "clf = BernoulliNB()\n",
        "clf.fit(X_train, y_train)\n",
        "y_pred=clf.predict(X_test)\n",
        "from sklearn.metrics import accuracy_score \n",
        "accuracy_score (y_test,y_pred )"
      ],
      "id": "15b42bfc",
      "execution_count": 13,
      "outputs": [
        {
          "output_type": "execute_result",
          "data": {
            "text/plain": [
              "0.8582474226804123"
            ]
          },
          "metadata": {},
          "execution_count": 13
        }
      ]
    }
  ]
}